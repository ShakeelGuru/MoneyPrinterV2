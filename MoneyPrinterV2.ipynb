{
  "nbformat": 4,
  "nbformat_minor": 0,
  "metadata": {
    "colab": {
      "provenance": []
    },
    "kernelspec": {
      "name": "python3",
      "display_name": "Python 3"
    },
    "language_info": {
      "name": "python"
    }
  },
  "cells": [
    {
      "cell_type": "code",
      "execution_count": null,
      "metadata": {
        "cellView": "form",
        "id": "DLYA1DuRzWtr"
      },
      "outputs": [],
      "source": [
        "#@markdown <center><h3><h2>Money Printer V2</h2>Install Requirements. This is 1 Click Run App to create Short Videos</h3></center><br>\n",
        "# 📦 Install ImageMagick and ffmpeg\n",
        "!sudo apt-get install imagemagick\n",
        "!sudo apt-get install ffmpeg\n",
        "\n",
        "# 📝 Fix Imagemagick policy.xml bug in linux using MoviePy\n",
        "!sed -i '/<policy domain=\"path\" rights=\"none\" pattern=\"@\\*\"/d' /etc/ImageMagick-6/policy.xml\n",
        "\n",
        "import os\n",
        "if not os.path.exists('/content/MoneyPrinterV2'):\n",
        "  # 📂 Clone the ShortGPT repository\n",
        "  !git clone  https://github.com/FujiwaraChoki/MoneyPrinterV2.git\n",
        "  %cd /content/MoneyPrinterV2/\n",
        "else:\n",
        "  %cd /content/MoneyPrinterV2/\n",
        "  # If the directory already exists, just pull the latest version\n",
        "  !git pull\n",
        "# 🚀 Change directory to ShortGPT\n",
        "\n",
        "# 🛠️ Install required Python packages\n",
        "!pip install -r requirements.txt"
      ]
    }
  ]
}